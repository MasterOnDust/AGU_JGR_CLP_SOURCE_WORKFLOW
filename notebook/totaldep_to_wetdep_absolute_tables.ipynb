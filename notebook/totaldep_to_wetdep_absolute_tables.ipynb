{
 "cells": [
  {
   "cell_type": "code",
   "execution_count": 1,
   "id": "d90372ff-8eb7-4f1b-bb8f-3dee3eb54530",
   "metadata": {},
   "outputs": [],
   "source": [
    "\n",
    "import xarray as xr\n",
    "from thesis_toolbox.utils import get_locations_CLP\n",
    "import matplotlib.pyplot as plt\n",
    "import matplotlib as mpl\n",
    "import pandas as pd\n",
    "import numpy as np\n",
    "import yaml\n",
    "locs = get_locations_CLP()"
   ]
  },
  {
   "cell_type": "code",
   "execution_count": 2,
   "id": "41a99569-76aa-4070-987d-619bbddc0f25",
   "metadata": {},
   "outputs": [],
   "source": [
    "locs_df = get_locations_CLP().drop('YINCHUAN')\n",
    "locs = ['SHAPOTOU','SACOL','BAODE','LUOCHUAN','LINGTAI','LANTIAN']"
   ]
  },
  {
   "cell_type": "code",
   "execution_count": 3,
   "id": "f4b7523f-ba46-4df9-b531-4987ad6d2bc3",
   "metadata": {},
   "outputs": [],
   "source": [
    "df = pd.read_csv('../../data/data/results/timeseries_table.csv', index_col=0)"
   ]
  },
  {
   "cell_type": "code",
   "execution_count": 4,
   "id": "a3001c42-0ffd-4bd2-88a8-1c6b2b85a084",
   "metadata": {},
   "outputs": [],
   "source": [
    "df_wetdep2m = pd.DataFrame(columns=locs,\n",
    "                      index=['North west CLP', 'Qaidam', 'Mongolia','Taklamakan','Gurbantunggut Desert','Central Asia'])\n",
    "df_wetdep20m = df_wetdep2m.copy()\n",
    "df_drydep2m = df_wetdep2m.copy()\n",
    "\n",
    "df_drydep20m = df_drydep2m.copy()\n"
   ]
  },
  {
   "cell_type": "code",
   "execution_count": 5,
   "id": "65a59be4-7ed6-45c3-a1c6-d8339bae1a92",
   "metadata": {},
   "outputs": [],
   "source": [
    "df_m = df.mean(axis=0)"
   ]
  },
  {
   "cell_type": "code",
   "execution_count": 6,
   "id": "c8153ac3-b35c-496a-9856-d81d6bec8ebf",
   "metadata": {},
   "outputs": [],
   "source": [
    "def get_depval_from_source(df_out,df_in,locs,source, kind, psize, convert_fact=None):\n",
    "    trans_dict = {\n",
    "        'Qaidam':\"quaidam_basin\",\n",
    "        'Central Asia':'central_asia',\n",
    "        \"Gurbantunggut Desert\":\"jungger_basin\",\n",
    "        \"Taklamakan\":\"taklamakan\",\n",
    "        \"North west CLP\": \"north_west\",\n",
    "        \"Mongolia\": \"mongolia\"\n",
    "        \n",
    "    }\n",
    "    for site in locs:\n",
    "        if convert_fact:\n",
    "            df_out.loc[source][site] = df_in.loc[f'{trans_dict[source]} {site} {kind} {psize}']*convert_fact\n",
    "        else:\n",
    "            df_out.loc[source][site] = df_in.loc[f'{trans_dict[source]} {site} {kind} {psize}']\n",
    "    return df_out"
   ]
  },
  {
   "cell_type": "code",
   "execution_count": 7,
   "id": "e42dfa52-d9c1-42f9-8b6f-fb4a3f6dfa4b",
   "metadata": {},
   "outputs": [],
   "source": [
    "conv_fact = 1e3/10800\n",
    "\n",
    "for source in df_wetdep2m.index:\n",
    "    df_wetdep2m = get_depval_from_source(df_wetdep2m, df_m, locs,source,'wetdep','2micron',conv_fact)\n",
    "    df_wetdep20m = get_depval_from_source(df_wetdep20m, df_m, locs,source,'wetdep','20micron',conv_fact)\n",
    "    df_drydep2m = get_depval_from_source(df_drydep2m, df_m, locs,source,'drydep','2micron',conv_fact)\n",
    "    df_drydep20m = get_depval_from_source(df_drydep20m, df_m, locs,source,'drydep','20micron',conv_fact)"
   ]
  },
  {
   "cell_type": "code",
   "execution_count": 8,
   "id": "00554c78-9897-4b92-998e-ccf2031f2d9c",
   "metadata": {},
   "outputs": [],
   "source": [
    "df_totdep2m = (df_drydep2m + df_wetdep2m).copy()\n",
    "df_totdep20m = (df_drydep20m + df_wetdep20m).copy()\n",
    "\n",
    "df_totdep2m = df_totdep2m.astype(np.float64).round(3)\n",
    "df_totdep20m = df_totdep20m.astype(np.float64).round(3)"
   ]
  },
  {
   "cell_type": "code",
   "execution_count": 9,
   "id": "ae99cee3-4686-472a-99c6-f81f89228fe5",
   "metadata": {},
   "outputs": [],
   "source": [
    "df_multi20 = pd.DataFrame(columns=locs,\n",
    "    index=[\n",
    "    ['North west CLP','North west CLP', 'Qaidam','Qaidam', 'Mongolia','Mongolia','Taklamakan','Taklamakan','Gurbantunggut Desert','Gurbantunggut Desert','Central Asia','Central Asia'],\n",
    "    ['Wet','Tot','Wet','Tot','Wet','Tot','Wet','Tot','Wet','Tot','Wet','Tot']\n",
    "                            ])\n",
    "\n",
    "df_multi2 = df_multi20.copy()"
   ]
  },
  {
   "cell_type": "code",
   "execution_count": 10,
   "id": "2f96e0d2-ad9c-471c-8402-ffe2a6f51563",
   "metadata": {},
   "outputs": [],
   "source": [
    "for s in df_multi20.index:\n",
    "    if s[1] == 'Wet':\n",
    "        df_multi20.loc[s] = df_wetdep20m.loc[s[0]].astype(np.float64).round(3)\n",
    "    else:\n",
    "        df_multi20.loc[s] = df_totdep20m.loc[s[0]]"
   ]
  },
  {
   "cell_type": "code",
   "execution_count": 11,
   "id": "b86cc26c-b954-4bdf-91cb-71b5fdf0a548",
   "metadata": {},
   "outputs": [],
   "source": [
    "for s in df_multi2.index:\n",
    "    if s[1] == 'Wet':\n",
    "        df_multi2.loc[s] = df_wetdep2m.loc[s[0]].astype(np.float64).round(3)\n",
    "    else:\n",
    "        df_multi2.loc[s] = df_totdep2m.loc[s[0]]"
   ]
  },
  {
   "cell_type": "code",
   "execution_count": 12,
   "id": "1c9ece57-76ae-4d6c-9bea-b9d5efcbcf63",
   "metadata": {},
   "outputs": [
    {
     "name": "stderr",
     "output_type": "stream",
     "text": [
      "/tmp/ipykernel_588/1112820374.py:3: FutureWarning: In future versions `DataFrame.to_latex` is expected to utilise the base implementation of `Styler.to_latex` for formatting and rendering. The arguments signature may therefore change. It is recommended instead to use `DataFrame.style.to_latex` which also contains additional functionality.\n",
      "  df_totdep20m.to_latex(f)\n",
      "/tmp/ipykernel_588/1112820374.py:5: FutureWarning: In future versions `DataFrame.to_latex` is expected to utilise the base implementation of `Styler.to_latex` for formatting and rendering. The arguments signature may therefore change. It is recommended instead to use `DataFrame.style.to_latex` which also contains additional functionality.\n",
      "  df_multi20.to_latex(f)\n",
      "/tmp/ipykernel_588/1112820374.py:7: FutureWarning: In future versions `DataFrame.to_latex` is expected to utilise the base implementation of `Styler.to_latex` for formatting and rendering. The arguments signature may therefore change. It is recommended instead to use `DataFrame.style.to_latex` which also contains additional functionality.\n",
      "  df_multi2.to_latex(f)\n"
     ]
    }
   ],
   "source": [
    "# Store tables and export to latex \n",
    "with open('tab20m_dep.txt','w') as f:\n",
    "    df_totdep20m.to_latex(f)\n",
    "with open('tabmulti20.txt', 'w') as f:\n",
    "    df_multi20.to_latex(f)\n",
    "with open('tabmulti2.txt', 'w') as f:\n",
    "    df_multi2.to_latex(f)"
   ]
  }
 ],
 "metadata": {
  "kernelspec": {
   "display_name": "Python 3 (dust env)",
   "language": "python",
   "name": "dust"
  },
  "language_info": {
   "codemirror_mode": {
    "name": "ipython",
    "version": 3
   },
   "file_extension": ".py",
   "mimetype": "text/x-python",
   "name": "python",
   "nbconvert_exporter": "python",
   "pygments_lexer": "ipython3",
   "version": "3.11.6"
  }
 },
 "nbformat": 4,
 "nbformat_minor": 5
}
