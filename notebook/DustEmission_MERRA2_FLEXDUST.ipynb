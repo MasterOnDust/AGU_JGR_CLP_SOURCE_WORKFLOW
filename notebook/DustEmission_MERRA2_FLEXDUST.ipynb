{
 "cells": [
  {
   "cell_type": "code",
   "execution_count": 1,
   "id": "brutal-equity",
   "metadata": {},
   "outputs": [],
   "source": [
    "import xarray as xr\n",
    "import matplotlib.pyplot as plt\n",
    "import dask\n",
    "import cartopy.crs as ccrs\n",
    "from dust.plot.maps import map_terrain_china, map_china\n",
    "from dust.plot.plotting import mpl_base_map_plot_xr,_gen_flexpart_colormap\n",
    "from thesis_toolbox.plot.tools import add_letter\n",
    "import matplotlib\n",
    "import matplotlib.cm as cm\n",
    "import numpy as np\n",
    "import matplotlib.colors as colors\n",
    "from matplotlib.patches import Rectangle\n",
    "import datetime as dt\n",
    "import pandas as pd\n",
    "from matplotlib.lines import Line2D"
   ]
  },
  {
   "cell_type": "markdown",
   "id": "reverse-hypothesis",
   "metadata": {},
   "source": [
    "## Load data"
   ]
  },
  {
   "cell_type": "code",
   "execution_count": 2,
   "id": "valued-rabbit",
   "metadata": {},
   "outputs": [],
   "source": [
    "ems_flexdust = xr.open_dataset('../Master_thesis_UiO_workflow/Master_thesis_UiO_workflow/results/model_results/intermediate_results/emission_flux.china.MAM.1999-2019.nc')\n",
    "\n",
    "merra2 = xr.open_mfdataset('../MERRA2/dust/*.nc4',chunks={'time':20},\n",
    "                       concat_dim=['time'],parallel=True, combine='nested')"
   ]
  },
  {
   "cell_type": "code",
   "execution_count": 3,
   "id": "breeding-transmission",
   "metadata": {},
   "outputs": [],
   "source": [
    "ems_merra2 = merra2[[f'DUEM00{i}' for i in range(1,6)]]"
   ]
  },
  {
   "cell_type": "markdown",
   "id": "awful-explosion",
   "metadata": {},
   "source": [
    "## Sum emission"
   ]
  },
  {
   "cell_type": "markdown",
   "id": "physical-number",
   "metadata": {},
   "source": [
    "Summing up the emissions from each bin."
   ]
  },
  {
   "cell_type": "code",
   "execution_count": 4,
   "id": "subtle-bahrain",
   "metadata": {},
   "outputs": [],
   "source": [
    "total_ems = ems_merra2['DUEM001']\n",
    "\n",
    "for dvar in ems_merra2.data_vars:\n",
    "    if dvar == 'DUEM001':\n",
    "        pass\n",
    "    else:\n",
    "        total_ems += ems_merra2[dvar]\n",
    "    "
   ]
  },
  {
   "cell_type": "code",
   "execution_count": 5,
   "id": "joined-percentage",
   "metadata": {},
   "outputs": [],
   "source": [
    "total_ems.attrs['long_name'] = 'Total dust emission'\n",
    "\n",
    "spring_ems_merra = total_ems.resample(time='Q-NOV').mean()\n",
    "\n",
    "spring_ems_merra = spring_ems_merra.where(spring_ems_merra.time.dt.season=='MAM').dropna(dim='time')"
   ]
  },
  {
   "cell_type": "code",
   "execution_count": 6,
   "id": "promising-shaft",
   "metadata": {},
   "outputs": [
    {
     "ename": "AttributeError",
     "evalue": "module 'dask' has no attribute 'distributed'",
     "output_type": "error",
     "traceback": [
      "\u001b[0;31m---------------------------------------------------------------------------\u001b[0m",
      "\u001b[0;31mAttributeError\u001b[0m                            Traceback (most recent call last)",
      "Cell \u001b[0;32mIn[6], line 1\u001b[0m\n\u001b[0;32m----> 1\u001b[0m cluster \u001b[38;5;241m=\u001b[39m \u001b[43mdask\u001b[49m\u001b[38;5;241;43m.\u001b[39;49m\u001b[43mdistributed\u001b[49m\u001b[38;5;241m.\u001b[39mLocalCluster(n_workers\u001b[38;5;241m=\u001b[39m\u001b[38;5;241m2\u001b[39m,memory_limit\u001b[38;5;241m=\u001b[39m\u001b[38;5;124m'\u001b[39m\u001b[38;5;124m4 Gib\u001b[39m\u001b[38;5;124m'\u001b[39m)\n\u001b[1;32m      2\u001b[0m client \u001b[38;5;241m=\u001b[39m dask\u001b[38;5;241m.\u001b[39mdistributed\u001b[38;5;241m.\u001b[39mClient(cluster)\n",
      "\u001b[0;31mAttributeError\u001b[0m: module 'dask' has no attribute 'distributed'"
     ]
    }
   ],
   "source": [
    "cluster = dask.distributed.LocalCluster(n_workers=2,memory_limit='4 Gib')\n",
    "client = dask.distributed.Client(cluster)"
   ]
  },
  {
   "cell_type": "code",
   "execution_count": null,
   "id": "composite-canon",
   "metadata": {},
   "outputs": [],
   "source": [
    "spring_ems_merra = spring_ems_merra.compute()"
   ]
  },
  {
   "cell_type": "code",
   "execution_count": null,
   "id": "transsexual-registration",
   "metadata": {},
   "outputs": [],
   "source": [
    "a = dt.datetime(2013,3,1,0,0,0)\n",
    "b = dt.datetime(2013,5,31,23,59,59)\n",
    "\n",
    "sec_in_spring = (b-a).total_seconds()\n",
    "spring_ems_merra = spring_ems_merra*sec_in_spring\n",
    "spring_ems_merra_avg = spring_ems_merra.mean(dim='time')\n",
    "\n",
    "area = xr.open_dataset('../gridarea.nc')\n",
    "\n",
    "spring_ems_merra_avg = spring_ems_merra_avg.sel(lon= slice(55,120), lat=slice(25,55))\n",
    "spring_ems_merra_avg_mass =spring_ems_merra_avg.sel(lon= slice(55,120), lat=slice(25,55))*area.sel(lon= slice(55,120), lat=slice(25,55))['cell_area']\n",
    "# 75,115, 30, 50|"
   ]
  },
  {
   "cell_type": "code",
   "execution_count": null,
   "id": "median-circuit",
   "metadata": {},
   "outputs": [],
   "source": [
    "ems_flexdust_mean = ems_flexdust.Emission.mean(dim='time')\n",
    "ems_flexdust_mean_mass = ems_flexdust.Emission.mean(dim='time')*ems_flexdust['area']"
   ]
  },
  {
   "cell_type": "code",
   "execution_count": null,
   "id": "double-estonia",
   "metadata": {},
   "outputs": [],
   "source": [
    "def min_max_norm(da):\n",
    "    return (da-da.min())/(da.max()-da.min())\n",
    "\n",
    "def derive_source_region_ts(fds, extend_dict, normalize=False):\n",
    "    data_dict = {}\n",
    "    for source_region, coords in extend_dict.items():\n",
    "        temp_region = fds.sel(lon=slice(coords['lon0'],coords['lon1']),lat=slice(coords['lat0'],coords['lat1'])).copy()\n",
    "        data_dict[source_region] = temp_region.sum(dim=['lon','lat']).values\n",
    "    data_dict['total'] = fds.sel(lon= slice(55,120), lat=slice(25,55)).sum(dim=['lon','lat']).values\n",
    "    df = pd.DataFrame(data_dict, index=temp_region.time)\n",
    "    df['Remainding Sources'] = df['total'] - df[list(source_regions.keys())].sum(axis=1)\n",
    "    if normalize:\n",
    "        df = (df - df.min(axis=0))/(df.max(axis=0)-df.min(axis=0))\n",
    "    return df"
   ]
  },
  {
   "cell_type": "code",
   "execution_count": null,
   "id": "cross-roulette",
   "metadata": {},
   "outputs": [],
   "source": [
    "flexdust_normed = min_max_norm(ems_flexdust_mean_mass)\n",
    "merra_normed = min_max_norm(spring_ems_merra_avg_mass)\n",
    "\n",
    "fds_emissions = ems_flexdust.Emission*ems_flexdust['area']\n",
    "\n",
    "import yaml\n",
    "with open(\"../Master_thesis_UiO_workflow/Master_thesis_UiO_workflow/config/config.yaml\", 'r') as f:\n",
    "    conf = yaml.safe_load(f)\n",
    "source_regions = conf['source_regions']"
   ]
  },
  {
   "cell_type": "code",
   "execution_count": null,
   "id": "distinguished-cooper",
   "metadata": {},
   "outputs": [],
   "source": [
    "ts_fp = derive_source_region_ts(fds_emissions, source_regions, normalize=True)"
   ]
  },
  {
   "cell_type": "code",
   "execution_count": null,
   "id": "general-hours",
   "metadata": {},
   "outputs": [],
   "source": [
    "ts_merra = derive_source_region_ts(spring_ems_merra.dropna(dim='time'), source_regions, normalize=True)\n",
    "ts_merra.index = [i for i in range(1999,2020)]"
   ]
  },
  {
   "cell_type": "code",
   "execution_count": null,
   "id": "fossil-click",
   "metadata": {},
   "outputs": [],
   "source": [
    "ts_fp.index = ts_merra.index"
   ]
  },
  {
   "cell_type": "code",
   "execution_count": null,
   "id": "loaded-hypothetical",
   "metadata": {},
   "outputs": [],
   "source": [
    "ts_fp = ts_fp.rename(columns={'taklamakan': 'Taklamakan', 'north_west':'Sources North West of CLP','quaidam_basin': 'Quaidam basin',\n",
    "             'mongolia':'Mongolia', 'jungger_basin':'Gurbantunggut desert', 'central_asia': 'Central Asia', 'total':'Entire domain'})\n",
    "ts_merra = ts_merra.rename(columns={'taklamakan': 'Taklamakan', 'north_west':'Sources North West of CLP','quaidam_basin': 'Quaidam basin',\n",
    "             'mongolia':'Mongolia', 'jungger_basin':'Gurbantunggut desert', 'central_asia': 'Central Asia', 'total':'Entire domain'})\n",
    "colors_d = {'Taklamakan':'tab:blue','Sources North West of CLP': 'tab:green','Quaidam basin':'tab:purple',\n",
    "            'Mongolia':'tab:orange', 'Gurbantunggut desert':'tab:brown', 'Central Asia':'tab:pink', 'Entire domain':'Black'}"
   ]
  },
  {
   "cell_type": "code",
   "execution_count": null,
   "id": "outstanding-touch",
   "metadata": {},
   "outputs": [],
   "source": [
    "fig = plt.figure(figsize=(8.4,7.5))\n",
    "# pax=ax[1,:].ravel()\n",
    "\n",
    "ax = [plt.subplot2grid((14,4),(0,0),rowspan=7,colspan=2, projection=ccrs.PlateCarree()),plt.subplot2grid((14,4),(0,2),rowspan=7,colspan=2, projection=ccrs.PlateCarree())]\n",
    "map_terrain_china(ax[1])\n",
    "cmap = matplotlib.cm.get_cmap('YlOrBr', 21)\n",
    "mpl_base_map_plot_xr(merra_normed,ax=ax[1],colorbar=False,vmin=1e-4, vmax=1, add_labels=False, norm=colors.PowerNorm(gamma=0.5),log=False,cmap=cmap)\n",
    "mpl_base_map_plot_xr(flexdust_normed, ax=ax[0],colorbar=False,vmin=1e-4, vmax=1,add_labels=False,norm=colors.PowerNorm(gamma=0.5), log=False,cmap=cmap)\n",
    "map_terrain_china(ax[0])\n",
    "ax[0].set_extent([55,120, 25, 55])\n",
    "ax[1].set_extent([55,120, 25, 55])\n",
    "\n",
    "ax[0].set_title('FLEXDUST-EA')\n",
    "ax[1].set_title('MERRA-2')\n",
    "for ax_i in ax:\n",
    "    ax_i.set_yticks([30, 40, 50, 60], crs=ccrs.PlateCarree())\n",
    "    ax_i.set_xticks([60,70, 80, 90, 100, 110, 120], crs=ccrs.PlateCarree())\n",
    "    ax_i.add_patch(Rectangle(xy=[75,36],width=15,height=6, transform=ccrs.PlateCarree(),fill=False,linewidth=1.5, edgecolor='tab:blue'))\n",
    "    ax_i.add_patch(Rectangle(xy=[100,37],width=10,height=5, transform=ccrs.PlateCarree(),fill=False,linewidth=1.5, edgecolor='tab:green'))\n",
    "    ax_i.add_patch(Rectangle(xy=[95,43],width=15,height=7, transform=ccrs.PlateCarree(),fill=False,linewidth=1.5, edgecolor='tab:orange'))\n",
    "    ax_i.add_patch(Rectangle(xy=[80,43],width=10,height=5, transform=ccrs.PlateCarree(),fill=False,linewidth=1.5, edgecolor='tab:brown'))\n",
    "    ax_i.add_patch(Rectangle(xy=[90,35],width=10,height=5, transform=ccrs.PlateCarree(),fill=False,linewidth=1.5, edgecolor='tab:purple'))\n",
    "    ax_i.add_patch(Rectangle(xy=[56,26],width=17,height=21, transform=ccrs.PlateCarree(),fill=False,linewidth=1.5, edgecolor='tab:pink'))\n",
    "ax_i.set_yticklabels([])\n",
    "\n",
    "add_letter(np.array([ax]),y=0.87)\n",
    "\n",
    "cax=fig.add_axes([0.925,0.6,0.028,0.19])\n",
    "cb = fig.colorbar(cm.ScalarMappable(norm=colors.PowerNorm(gamma=0.5), cmap=cmap), cax=cax)\n",
    "\n",
    "sources = ['Taklamakan', 'Sources North West of CLP', 'Mongolia', 'Gurbantunggut desert',\n",
    "       'Quaidam basin', 'Central Asia','Entire domain']\n",
    "\n",
    "colors_d = {'Taklamakan':'tab:blue','Sources North West of CLP': 'tab:green','Quaidam basin':'tab:purple',\n",
    "            'Mongolia':'tab:orange', 'Gurbantunggut desert':'tab:brown', 'Central Asia':'tab:pink', 'Entire domain':'Black'}\n",
    "\n",
    "rp =[7,8, 9,10, 11,12, 13]\n",
    "correlations = ts_merra.corrwith(ts_fp)\n",
    "for l,col in zip(rp,ts_fp[sources].columns):\n",
    "    \n",
    "    ax1 = plt.subplot2grid((14,4),(l,0), colspan=3)\n",
    "    if l != 13:\n",
    "        ax1.spines['bottom'].set_visible(False)\n",
    "        ax1.xaxis.set_tick_params(which='both',bottom=False)\n",
    "    \n",
    "    ax1.spines['top'].set_visible(False)\n",
    "    ax1.spines['right'].set_visible(False)\n",
    "    ax1.set_facecolor('#F2F2F2')\n",
    "    ts_fp[col].plot(ax=ax1, legend=False,color=colors_d[col],marker='s', markersize=4)\n",
    "    \n",
    "    ts_merra[col].plot.line(ax=ax1,legend=False, color=colors_d[col], marker='D', markersize=4, sharex=ax1, sharey=ax1, linestyle=':')\n",
    "    ax1.text(0.965,0.69,f'r={correlations[col]:.2f}', transform=ax1.transAxes, bbox=dict(facecolor='white', edgecolor='none', pad=3), size='x-small')\n",
    "l = []\n",
    "h = []\n",
    "for source in sources:\n",
    "    l.append(source)\n",
    "    h.append(Line2D([0],[0],marker='s',linestyle='',color=colors_d[source]))\n",
    "    \n",
    "ax1.set_xlim(1998,2020)\n",
    "ax1.xaxis.set_major_locator(matplotlib.ticker.FixedLocator([2000,2005,2010,2015,2020]))\n",
    "ax1.xaxis.set_minor_locator(matplotlib.ticker.AutoMinorLocator(5))\n",
    "fig.legend(h,l,bbox_to_anchor=(0.85,0.94), ncol=3)\n",
    "fig.text(0.132, 0.51, 'c)', size='xx-large',transform=fig.transFigure)\n",
    "h = [Line2D([0],[0],marker='s',color='k', markerfacecolor='none'),\n",
    "     Line2D([0],[0],marker='D',linestyle=':',color='k', markerfacecolor='none')]\n",
    "\n",
    "fig.text(0.7, 0.51, 'd)', size='xx-large',transform=fig.transFigure)\n",
    "\n",
    "ts_fp_no_norm = derive_source_region_ts(fds_emissions, source_regions, normalize=False)\n",
    "\n",
    "ts_fp_no_norm = ts_fp_no_norm.rename(columns={'taklamakan': 'Taklamakan', 'north_west':'Sources North West of CLP','quaidam_basin': 'Quaidam basin',\n",
    "             'mongolia':'Mongolia', 'jungger_basin':'Gurbantunggut desert', 'central_asia': 'Central Asia', 'total':'Entire domain'})\n",
    "\n",
    "ts_fp_no_norm=ts_fp_no_norm[['Taklamakan', 'Sources North West of CLP', 'Mongolia', 'Gurbantunggut desert',\n",
    "       'Quaidam basin', 'Central Asia']]\n",
    "\n",
    "\n",
    "\n",
    "ts_merra_no_norm = derive_source_region_ts(spring_ems_merra.dropna(dim='time'), source_regions, normalize=False)\n",
    "ts_merra_no_norm.index = [i for i in range(1999,2020)]\n",
    "ts_merra_no_norm = ts_merra_no_norm.rename(columns={'taklamakan': 'Taklamakan', 'north_west':'Sources North West of CLP','quaidam_basin': 'Quaidam basin',\n",
    "             'mongolia':'Mongolia', 'jungger_basin':'Gurbantunggut desert', 'central_asia': 'Central Asia', 'total':'Entire domain'})\n",
    "ts_merra_no_norm = ts_merra_no_norm[['Taklamakan', 'Sources North West of CLP', 'Mongolia', 'Gurbantunggut desert',\n",
    "       'Quaidam basin', 'Central Asia']]\n",
    "\n",
    "\n",
    "df_fp_no_norm = ts_fp_no_norm.mean(axis=0)\n",
    "df_color = df_fp_no_norm.index.map(colors_d)\n",
    "df_fp_no_norm.plot.pie(ax=plt.subplot2grid((14,4),(7,3), rowspan=3), colors=df_color,pctdistance=1.3, autopct='%1.0f%%',label='',labeldistance=None, title=\n",
    "                      'FLEXDUST-EA')\n",
    "\n",
    "df_merra_no_norm = ts_merra_no_norm.mean(axis=0)\n",
    "df_color = df_merra_no_norm.index.map(colors_d)\n",
    "\n",
    "\n",
    "df_merra_no_norm.plot.pie(ax=plt.subplot2grid((14,4),(11,3), rowspan=3,), colors=df_color,pctdistance=1.3, autopct='%1.0f%%',label='',labeldistance=None\n",
    "                         ,title='MERRA-2')\n",
    "\n",
    "fig.legend(h,['FLEXDUST', 'MERRA2' ],bbox_to_anchor=(0.43,0.1),frameon=False, ncol=2)\n",
    "# plt.subplots_adjust(hspace=)\n",
    "\n",
    "\n",
    "plt.savefig('../figs/Emission_comparison_flexdust_merra.png',bbox_inches='tight', dpi=300)"
   ]
  }
 ],
 "metadata": {
  "kernelspec": {
   "display_name": "Python 3 (dust env)",
   "language": "python",
   "name": "dust"
  },
  "language_info": {
   "codemirror_mode": {
    "name": "ipython",
    "version": 3
   },
   "file_extension": ".py",
   "mimetype": "text/x-python",
   "name": "python",
   "nbconvert_exporter": "python",
   "pygments_lexer": "ipython3",
   "version": "3.11.6"
  }
 },
 "nbformat": 4,
 "nbformat_minor": 5
}
