{
 "cells": [
  {
   "cell_type": "code",
   "execution_count": 1,
   "id": "banner-devon",
   "metadata": {},
   "outputs": [],
   "source": [
    "import xarray as xr \n",
    "import matplotlib.pyplot as plt\n",
    "import cartopy.crs as ccrs\n",
    "import glob\n",
    "from thesis_toolbox.utils import get_locations_CLP,read_depostion_datasets\n",
    "from thesis_toolbox.plot.tools import add_letter\n",
    "from thesis_toolbox.plot.plot_source_contribution import depositon_facet_plot\n",
    "from dust.plot.plotting import mpl_base_map_plot_xr\n",
    "from dust.plot.maps import map_terrain_china, map_china\n",
    "from dust.plot.utils import _gen_flexpart_colormap,_add_colorbar\n",
    "from matplotlib.colors import LogNorm\n",
    "from thesis_toolbox.plot.tools import latex_plot\n",
    "from matplotlib import rc\n",
    "import matplotlib.cm as cm\n",
    "import matplotlib\n",
    "%matplotlib inline\n",
    "# latex_plot()"
   ]
  },
  {
   "cell_type": "code",
   "execution_count": 2,
   "id": "intelligent-eclipse",
   "metadata": {},
   "outputs": [],
   "source": [
    "if 'snakemake' in globals():\n",
    "    to_file = True\n",
    "    path='./'\n",
    "else:\n",
    "    path = '../../../'\n",
    "    to_file= False"
   ]
  },
  {
   "cell_type": "code",
   "execution_count": 3,
   "id": "soviet-gossip",
   "metadata": {},
   "outputs": [],
   "source": [
    "def min_max_norm(ds):\n",
    "    out_ds = ds.copy()\n",
    "    for dvar, da in ds.items():\n",
    "        da = (da-da.min())/(da.max()-da.min())\n",
    "        out_ds = out_ds.assign({dvar:da})\n",
    "    return out_ds"
   ]
  },
  {
   "cell_type": "code",
   "execution_count": 4,
   "id": "structured-palace",
   "metadata": {},
   "outputs": [
    {
     "name": "stdout",
     "output_type": "stream",
     "text": [
      "['../../../results/model_results/drydep/drydep.SHAPOTOU.2micron.MAM.1999-2019.nc']\n",
      "['../../../results/model_results/drydep/drydep.BADOE.2micron.MAM.1999-2019.nc']\n",
      "['../../../results/model_results/drydep/drydep.SACOL.2micron.MAM.1999-2019.nc']\n",
      "['../../../results/model_results/drydep/drydep.LUOCHUAN.2micron.MAM.1999-2019.nc']\n",
      "['../../../results/model_results/drydep/drydep.LANTIAN.2micron.MAM.1999-2019.nc']\n",
      "['../../../results/model_results/drydep/drydep.LINGTAI.2micron.MAM.1999-2019.nc']\n",
      "['../../../results/model_results/wetdep/wetdep.SHAPOTOU.2micron.MAM.1999-2019.nc']\n",
      "['../../../results/model_results/wetdep/wetdep.BADOE.2micron.MAM.1999-2019.nc']\n",
      "['../../../results/model_results/wetdep/wetdep.SACOL.2micron.MAM.1999-2019.nc']\n",
      "['../../../results/model_results/wetdep/wetdep.LUOCHUAN.2micron.MAM.1999-2019.nc']\n",
      "['../../../results/model_results/wetdep/wetdep.LANTIAN.2micron.MAM.1999-2019.nc']\n",
      "['../../../results/model_results/wetdep/wetdep.LINGTAI.2micron.MAM.1999-2019.nc']\n"
     ]
    }
   ],
   "source": [
    "locs = ['SHAPOTOU','BADOE','SACOL','LUOCHUAN','LANTIAN','LINGTAI']\n",
    "drydep_2micron = read_depostion_datasets(path+'results/model_results/', locs, 'drydep','2micron')\n",
    "drydep_2micron = drydep_2micron.mean(dim='year')\n",
    "\n",
    "locs = ['SHAPOTOU','BADOE','SACOL','LUOCHUAN','LANTIAN','LINGTAI']\n",
    "wetdep_2micron = read_depostion_datasets(path+'results/model_results/', locs, 'wetdep','2micron')\n",
    "wetdep_2micron = wetdep_2micron.mean(dim='year')\n"
   ]
  },
  {
   "cell_type": "code",
   "execution_count": 5,
   "id": "outdoor-desire",
   "metadata": {},
   "outputs": [],
   "source": [
    "drydep_wetdep_combo_2micron = drydep_2micron.merge(wetdep_2micron)"
   ]
  },
  {
   "cell_type": "code",
   "execution_count": null,
   "id": "provincial-extreme",
   "metadata": {
    "tags": []
   },
   "outputs": [],
   "source": [
    "fig,ax = plt.subplots(nrows=3, ncols=4,  figsize=(8.3*2, 11.7*0.66), subplot_kw={'projection':ccrs.PlateCarree()}, sharey=True, sharex=True)\n",
    "depositon_facet_plot(drydep_wetdep_combo_2micron, vmin=1e-8,vmax=1e-4, \n",
    "                    add_labels=False, ax=ax\n",
    "                    , hspace=0.05, wspace=0.18,  \n",
    "                    fontsize_title=8, colorbar=False)\n",
    "fig = plt.gcf()\n",
    "cmap = _gen_flexpart_colormap()\n",
    "cax = fig.add_axes([0.25, 0.03,0.52,0.05])\n",
    "fig.colorbar(cm.ScalarMappable(norm=matplotlib.colors.LogNorm(1e-8,1e-4), cmap=cmap), cax=cax,\n",
    "            label='Source contribution [$\\mathrm{g/m}^2$]', orientation='horizontal')\n",
    "add_letter(ax,y=0.82, fontsize=12)\n",
    "if to_file:\n",
    "    plt.savefig(snakemake.output.clay_plot,bbox_inches='tight')\n"
   ]
  }
 ],
 "metadata": {
  "kernelspec": {
   "display_name": "Python [conda env:dust]",
   "language": "python",
   "name": "conda-env-dust-xpython"
  },
  "language_info": {
   "file_extension": ".py",
   "mimetype": "text/x-python",
   "name": "python",
   "version": "3.8.8"
  }
 },
 "nbformat": 4,
 "nbformat_minor": 5
}
