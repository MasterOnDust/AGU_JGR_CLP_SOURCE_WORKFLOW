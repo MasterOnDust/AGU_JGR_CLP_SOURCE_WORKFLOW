{
 "cells": [
  {
   "cell_type": "code",
   "execution_count": 2,
   "id": "capable-request",
   "metadata": {},
   "outputs": [],
   "source": [
    "import xarray as xr\n",
    "import matplotlib.pyplot as plt\n",
    "# from snakemake.io import \n",
    "import pandas as pd\n",
    "import numpy as np\n",
    "from thesis_toolbox.utils import get_locations_CLP\n",
    "import matplotlib.transforms as mtransforms\n",
    "from matplotlib.ticker import LogLocator\n",
    "%matplotlib inline"
   ]
  },
  {
   "cell_type": "code",
   "execution_count": 3,
   "id": "driven-actor",
   "metadata": {},
   "outputs": [],
   "source": [
    "if 'snakemake' in globals():\n",
    "    to_file = True\n",
    "\n",
    "else:\n",
    "    path = '../../../'\n",
    "    to_file= False\n",
    "    psize='2micron'\n",
    "    kind='drydep'"
   ]
  },
  {
   "cell_type": "code",
   "execution_count": 4,
   "id": "loaded-console",
   "metadata": {},
   "outputs": [],
   "source": [
    "if 'snakemake' in globals():\n",
    "    to_file = True\n",
    "    path='./'\n",
    "#     psize= snakemake.wildcards.psize\n",
    "#     kind = snakemake.wildcards.kind\n",
    "else:\n",
    "    path = '../../../'\n",
    "    to_file= False\n",
    "    psize='2micron'\n",
    "    kind='drydep'\n",
    "\n",
    "def read_data(paths, locs):\n",
    "    pdict = {}\n",
    "    for location in locs:\n",
    "        tempdfs = [pd.read_csv(p) for p in paths if location == p.split('.')[-5]]\n",
    "        tempdfs = pd.concat(tempdfs)\n",
    "        tempdfs.index = pd.to_datetime(tempdfs.time,yearfirst=True)\n",
    "        tempdfs = tempdfs.drop(columns='time')\n",
    "        \n",
    "        pdict[location] = tempdfs.rename(columns={'0':location})\n",
    "    outdf = pd.DataFrame(columns=locs, index=tempdfs.index)\n",
    "    for location in locs:\n",
    "        outdf.loc[:,location] = pdict[location][location].copy()\n",
    "#     df = pd.concat(dfs)\n",
    "#     df.index = pd.to_datetime(df.time,yearfirst=True)\n",
    "#     df = df.drop(columns='time')\n",
    "    return outdf\n",
    "\n",
    "\n",
    "def plot_deposition_histogram(df, axes):\n",
    "\n",
    "\n",
    "    df_early_spring = []\n",
    "    for year in range(1999,2019):\n",
    "        df_early_spring.append(df[f'{year}-03-01':f'{year}-04-17'])\n",
    "\n",
    "    df_late_spring = []\n",
    "    for year in range(1999,2019):\n",
    "        df_late_spring.append(df[f'{year}-04-17':f'{year}-05-31'])\n",
    "    df_early_spring = pd.concat(df_early_spring)\n",
    "    df_late_spring = pd.concat(df_late_spring)\n",
    "    logbins = np.logspace(np.log10(1e-5),np.log10(0.1),10)\n",
    "    for site, ax in zip(df.columns, axes): \n",
    "        \n",
    "        df_late_spring[[site]].where(df_late_spring>1e-5).plot.hist(bins=logbins,ax=ax, \n",
    "                                                            label='Late spring',  legend=False,\n",
    "                                                            alpha=0.7, grid=False, color=\"#f89c20\")\n",
    "        df_early_spring[[site]].where(df_early_spring>1e-5).plot.hist(bins=logbins,ax=ax,\n",
    "                                                              label='Early spring',   legend=False,\n",
    "                                                         alpha=0.7, color= \"#5790fc\")\n",
    "\n",
    "        ax.semilogx()\n",
    "    \n",
    "\"#5790fc\", \"#f89c20\","
   ]
  },
  {
   "cell_type": "code",
   "execution_count": 5,
   "id": "2cd8eb65",
   "metadata": {},
   "outputs": [],
   "source": [
    "locs =  ['SHAPOTOU','SACOL','BAODE','LUOCHUAN','LINGTAI','LANTIAN']\n",
    "dfdp2m = read_data(snakemake.input.drypdep_2micron, locs)\n",
    "dfdp20m = read_data(snakemake.input.drydep_20micron, locs)\n",
    "dfwp2m = read_data(snakemake.input.wetdep_2micron, locs)\n",
    "dfwp20m = read_data(snakemake.input.wetdep_20micron,locs)"
   ]
  },
  {
   "cell_type": "code",
   "execution_count": 6,
   "id": "9cf7994c",
   "metadata": {},
   "outputs": [],
   "source": [
    "def remove_spines(axes, ylim, side):\n",
    "    for ax in axes.ravel():\n",
    "        ax.spines['top'].set_visible(False)\n",
    "        ax.spines[side].set_visible(False)\n",
    "        ax.set_ylim(ylim)\n",
    "        if side =='left':\n",
    "            ax.yaxis.tick_right()\n",
    "            ax.yaxis.set_label_position(\"right\")\n",
    "#         ax.spines['bottom'].set_visible(False)\n",
    "#         ax.spines['left'].set_visible(False)"
   ]
  },
  {
   "cell_type": "code",
   "execution_count": 7,
   "id": "86391710",
   "metadata": {},
   "outputs": [],
   "source": [
    "def remove_ticks(axes):\n",
    "    for ax in axes.ravel():\n",
    "        ax.set_yticklabels([])\n",
    "        ax.set_ylabel('')"
   ]
  },
  {
   "cell_type": "code",
   "execution_count": 8,
   "id": "4b08d59e",
   "metadata": {},
   "outputs": [],
   "source": [
    "fig,axes = plt.subplots(ncols=4,nrows=6, figsize=(7,8), sharex=True, sharey=False)\n",
    "plot_deposition_histogram(dfdp2m,axes[:,0])\n",
    "plot_deposition_histogram(dfdp20m,axes[:,1])\n",
    "plot_deposition_histogram(dfwp2m,axes[:,2])\n",
    "plot_deposition_histogram(dfwp20m,axes[:,3])\n",
    "\n",
    "axes[0,0].set_title('Clay',loc='center',y=.97)\n",
    "axes[0,1].set_title('Silt',loc='center',y=.97)\n",
    "axes[0,2].set_title('Clay',loc='center',y=.97)\n",
    "axes[0,3].set_title('Silt',loc='center',y=.97)\n",
    "remove_spines(axes[:,:2], ylim=(0,400),side='right')\n",
    "remove_ticks(axes[:,1:2])\n",
    "remove_spines(axes[:,2:],ylim=(0,150), side='left')\n",
    "remove_ticks(axes[:,2:3])\n",
    "axes[-1,0].set_xticks([1e-5,1e-3,1e-1])\n",
    "axes[-1,0].set_xticks([1e-4,1e-2], minor=True, labels=[])\n",
    "# axes[-1,0].xaxis.set_minor_locator(LogLocator(num))\n",
    "fig.text(0.32,0.94,'Dry-deposition', va='center', ha='center', weight='semibold'\n",
    "         ,size='large',transform=fig.transFigure)\n",
    "fig.text(0.71,0.94,'Wet-deposition', va='center', ha='center', weight='semibold'\n",
    "         ,size='large',transform=fig.transFigure)\n",
    "\n",
    "\n",
    "fig.text(0.51, 0.07, \"Dust deposited per day [g m-2]\",va='center', ha='center'\n",
    "         ,size='large',transform=fig.transFigure)\n",
    "h,l =axes[0,0].get_legend_handles_labels()\n",
    "\n",
    "for ax, site in zip(axes[:,0].ravel(), locs):\n",
    "    ax.set_ylabel(f\"{site} \\n # events\")\n",
    "for ax in axes[:,-1].ravel():\n",
    "    ax.set_ylabel('')\n",
    "    \n",
    "fig.legend(h, ['Late spring', 'Early spring'],bbox_to_anchor=(0.55,0.055),ncol=2, frameon=False,fontsize='large')\n",
    "if to_file:\n",
    "    plt.savefig(snakemake.output.outpath, bbox_inches='tight')"
   ]
  }
 ],
 "metadata": {
  "kernelspec": {
   "display_name": "Python 3 (ipykernel)",
   "language": "python",
   "name": "python3"
  },
  "language_info": {
   "codemirror_mode": {
    "name": "ipython",
    "version": 3
   },
   "file_extension": ".py",
   "mimetype": "text/x-python",
   "name": "python",
   "nbconvert_exporter": "python",
   "pygments_lexer": "ipython3",
   "version": "3.9.0"
  },
  "vscode": {
   "interpreter": {
    "hash": "a7773ab1dddab790bdd16b996264cd2245fffcc6020fa63bda0b089c1bd3f460"
   }
  }
 },
 "nbformat": 4,
 "nbformat_minor": 5
}
