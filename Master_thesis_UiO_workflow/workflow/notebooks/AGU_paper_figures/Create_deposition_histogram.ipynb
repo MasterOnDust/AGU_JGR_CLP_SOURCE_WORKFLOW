{
 "cells": [
  {
   "cell_type": "code",
   "execution_count": 1,
   "id": "falling-disorder",
   "metadata": {},
   "outputs": [],
   "source": [
    "import xarray as xr\n",
    "import matplotlib.pyplot as plt\n",
    "# from snakemake.io import \n",
    "import pandas as pd\n",
    "import numpy as np\n",
    "%matplotlib inline"
   ]
  },
  {
   "cell_type": "code",
   "execution_count": 2,
   "id": "duplicate-constitutional",
   "metadata": {},
   "outputs": [],
   "source": [
    "if 'snakemake' in globals():\n",
    "    to_file = True\n",
    "    path='./'\n",
    "    files = snakemake.input.trajec_files\n",
    "else:\n",
    "    path = '../../../'\n",
    "    to_file= False"
   ]
  },
  {
   "cell_type": "code",
   "execution_count": 4,
   "id": "fleet-bridges",
   "metadata": {},
   "outputs": [],
   "source": [
    "dfs = []\n",
    "for year in range(1999,2006):\n",
    "    dfs.append( pd.read_csv(path+f'results/model_results/intermediate_results/timeseries/wetdep/wetdep.BADOE.2micron.Day.{year}.csv', index_col=0))"
   ]
  },
  {
   "cell_type": "code",
   "execution_count": 5,
   "id": "induced-wallace",
   "metadata": {},
   "outputs": [],
   "source": [
    "df = pd.concat(dfs)"
   ]
  },
  {
   "cell_type": "code",
   "execution_count": 6,
   "id": "dependent-hello",
   "metadata": {},
   "outputs": [],
   "source": [
    "df.index = pd.to_datetime(df.index)"
   ]
  },
  {
   "cell_type": "code",
   "execution_count": null,
   "id": "flush-halloween",
   "metadata": {},
   "outputs": [],
   "source": [
    "ls ../../../results/model_results/intermediate_results/timeseries/drydep"
   ]
  },
  {
   "cell_type": "code",
   "execution_count": 7,
   "id": "behind-heater",
   "metadata": {},
   "outputs": [],
   "source": [
    "df_early_spring = []\n",
    "for year in range(1999,2006):\n",
    "    df_early_spring.append(df[f'{year}-03-06':f'{year}-04-17'])\n",
    "\n",
    "df_late_spring = []\n",
    "for year in range(1999,2006):\n",
    "    df_late_spring.append(df[f'{year}-04-17':f'{year}-05-31'])\n"
   ]
  },
  {
   "cell_type": "code",
   "execution_count": 8,
   "id": "mechanical-xerox",
   "metadata": {},
   "outputs": [],
   "source": [
    "df_early_spring = pd.concat(df_early_spring)\n",
    "df_late_spring = pd.concat(df_late_spring)"
   ]
  },
  {
   "cell_type": "code",
   "execution_count": 9,
   "id": "negative-catalyst",
   "metadata": {},
   "outputs": [
    {
     "data": {
      "text/plain": [
       "(0.0, 35.0)"
      ]
     },
     "execution_count": 9,
     "metadata": {},
     "output_type": "execute_result"
    },
    {
     "data": {
      "image/png": "[encoded data removed]",
      "text/plain": [
       "<Figure size 432x288 with 1 Axes>"
      ]
     },
     "metadata": {
      "needs_background": "light"
     },
     "output_type": "display_data"
    }
   ],
   "source": [
    "fig,ax = plt.subplots()\n",
    "logbins = np.logspace(np.log10(1e-5),np.log10(0.1),10)\n",
    "df_late_spring.where(df_late_spring>1e-5).hist(bins=logbins,ax=ax)\n",
    "df_early_spring.where(df_early_spring>1e-5).hist(bins=logbins,ax=ax,alpha=0.7)\n",
    "\n",
    "ax.semilogx()\n",
    "ax.set_ylim(0,35)"
   ]
  },
  {
   "cell_type": "code",
   "execution_count": null,
   "id": "lucky-result",
   "metadata": {},
   "outputs": [],
   "source": [
    "fig,ax = plt.subplots()\n",
    "\n",
    "ax.semilogx()\n",
    "ax.set_ylim(0,35)"
   ]
  }
 ],
 "metadata": {
  "kernelspec": {
   "display_name": "Python [conda env:dust]",
   "language": "python",
   "name": "conda-env-dust-xpython"
  },
  "language_info": {
   "file_extension": ".py",
   "mimetype": "text/x-python",
   "name": "python",
   "version": "3.8.8"
  }
 },
 "nbformat": 4,
 "nbformat_minor": 5
}
