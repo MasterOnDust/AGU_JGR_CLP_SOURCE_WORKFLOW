{
 "cells": [
  {
   "cell_type": "code",
   "execution_count": 28,
   "id": "hybrid-colors",
   "metadata": {},
   "outputs": [],
   "source": [
    "import xarray as xr\n",
    "import matplotlib.pyplot as plt\n",
    "# from snakemake.io import \n",
    "import pandas as pd\n",
    "import numpy as np\n",
    "import matplotlib.transforms as mtransforms\n",
    "%matplotlib inline"
   ]
  },
  {
   "cell_type": "code",
   "execution_count": 102,
   "id": "lucky-sailing",
   "metadata": {},
   "outputs": [],
   "source": [
    "if 'snakemake' in globals():\n",
    "    to_file = True\n",
    "    path='./'\n",
    "    psize= snakemake.wildcards.psize\n",
    "    kind = snakemake.wildcards.kind\n",
    "else:\n",
    "    path = '../../../'\n",
    "    to_file= False\n",
    "    psize='2micron'\n",
    "    kind='wetdep'"
   ]
  },
  {
   "cell_type": "code",
   "execution_count": 96,
   "id": "exterior-anatomy",
   "metadata": {},
   "outputs": [],
   "source": [
    "def plot_deposition_histogram(psize,kind,locs=['SHAPOTOU', 'BADOE', 'SACOL','LUOCHUAN','LANTIAN','LINGTAI']):\n",
    "    fig,axes = plt.subplot_mosaic([['a)','b)','c)'],['d)','e)','f)']], constrained_layout=True)\n",
    "    for loc,axs in zip(locs,axes):\n",
    "#         if loc == 'B'\n",
    "        dfs = []\n",
    "        for year in range(1999,2019):\n",
    "            dfs.append( pd.read_csv(path+f'results/model_results/intermediate_results/timeseries/{kind}/{kind}.{loc}.{psize}.Day.{year}.csv', index_col=0))\n",
    "\n",
    "        df = pd.concat(dfs)\n",
    "\n",
    "        df.index = pd.to_datetime(df.index)\n",
    "\n",
    "        df_early_spring = []\n",
    "        for year in range(1999,2019):\n",
    "            df_early_spring.append(df[f'{year}-03-06':f'{year}-04-17'])\n",
    "\n",
    "        df_late_spring = []\n",
    "        for year in range(1999,2019):\n",
    "            df_late_spring.append(df[f'{year}-04-17':f'{year}-05-31'])\n",
    "\n",
    "\n",
    "        df_early_spring = pd.concat(df_early_spring)\n",
    "        df_late_spring = pd.concat(df_late_spring)\n",
    "\n",
    "\n",
    "        logbins = np.logspace(np.log10(1e-5),np.log10(0.1),10)\n",
    "        df_late_spring.where(df_late_spring>1e-5).hist(bins=logbins,ax=axes[axs], label='Late spring')\n",
    "        df_early_spring.where(df_early_spring>1e-5).hist(bins=logbins,ax=axes[axs],alpha=0.7, label='Early spring')\n",
    "        trans = mtransforms.ScaledTranslation(10/72, -5/72, fig.dpi_scale_trans)\n",
    "        axes[axs].semilogx()\n",
    "#         axes[axs].set_ylim(0,200)\n",
    "        axes[axs].text(0.0, 1.0, axs, transform=axes[axs].transAxes + trans,\n",
    "        fontsize='medium', verticalalignment='top', fontfamily='serif',\n",
    "        bbox=dict(facecolor='0.7', edgecolor='none', pad=3.0))\n",
    "        axes[axs].set_title(loc)\n",
    "        \n",
    "    h,l =axes[axs].get_legend_handles_labels()\n",
    "    axes['a)'].set_ylabel('# events')\n",
    "    axes['d)'].set_ylabel('# events')\n",
    "    axes['e)'].set_xlabel('Dust deposited per day (g/$m^2$)')\n",
    "    fig.legend(h, l,bbox_to_anchor=(0.3,0.,0.25,0.01 ),ncol=2)"
   ]
  },
  {
   "cell_type": "code",
   "execution_count": 103,
   "id": "stupid-inquiry",
   "metadata": {},
   "outputs": [
    {
     "data": {
      "image/png": "[encoded data removed]",
      "text/plain": [
       "<Figure size 432x288 with 6 Axes>"
      ]
     },
     "metadata": {
      "needs_background": "light"
     },
     "output_type": "display_data"
    }
   ],
   "source": [
    "plot_deposition_histogram(psize, kind)\n",
    "if to_file:\n",
    "    plt.savefig(snakemake.output.outpath, bbox_inches='tight')"
   ]
  }
 ],
 "metadata": {
  "kernelspec": {
   "display_name": "Python 3",
   "language": "python",
   "name": "python3"
  },
  "language_info": {
   "codemirror_mode": {
    "name": "ipython",
    "version": 3
   },
   "file_extension": ".py",
   "mimetype": "text/x-python",
   "name": "python",
   "nbconvert_exporter": "python",
   "pygments_lexer": "ipython3",
   "version": "3.8.8"
  }
 },
 "nbformat": 4,
 "nbformat_minor": 5
}
