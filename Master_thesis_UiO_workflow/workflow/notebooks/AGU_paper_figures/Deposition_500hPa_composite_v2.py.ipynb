{
 "cells": [
  {
   "cell_type": "code",
   "execution_count": 5,
   "id": "eligible-slovakia",
   "metadata": {},
   "outputs": [],
   "source": [
    "import xarray as xr\n",
    "import matplotlib.pyplot as plt\n",
    "import cartopy.crs as ccrs\n",
    "from thesis_toolbox.plot.plot_climatology import plot_climatology_500hpa\n",
    "from thesis_toolbox.plot.tools import map_large_scale, add_letter, add_colorbar\n",
    "from thesis_toolbox.process_era5 import resample_seasonal\n",
    "import numpy as np\n",
    "from thesis_toolbox.composites.create_composites import detrend_timeseries,select_years_to_composite\n",
    "from thesis_toolbox.composites.setup_thesis_data import geopot_wind_composite\n",
    "from thesis_toolbox.plot.plot_composites import plot_500hPa_composite, plot_which_years_composited\n",
    "from thesis_toolbox.utils import get_locations_CLP,read_receptor_composite\n",
    "import glob\n",
    "import matplotlib as mpl\n",
    "%matplotlib inline"
   ]
  },
  {
   "cell_type": "code",
   "execution_count": 6,
   "id": "dietary-content",
   "metadata": {},
   "outputs": [],
   "source": [
    "if 'snakemake' in globals():\n",
    "    to_file = True\n",
    "    path='./'\n",
    "    kind = snakemake.wildcards.kind\n",
    "else:\n",
    "    path = '../../../'\n",
    "    to_file= False\n",
    "    kind = 'total_deposition'"
   ]
  },
  {
   "cell_type": "code",
   "execution_count": 10,
   "id": "fewer-completion",
   "metadata": {},
   "outputs": [],
   "source": [
    "def plot_composite(composite,axes, locs, scale=0.5, u=2, add_label=False):\n",
    "    for ax ,loc_name in zip(axes.ravel(),locs.index):\n",
    "        ax.tick_params(axis=\"y\", which='both',right=True, left=True, labelleft=False, labelright=False)\n",
    "        ax.tick_params(axis=\"x\", which='both',bottom=True, top=False, labelbottom=False)\n",
    "        plot_500hPa_composite(composite, ax=ax,  x_qk=0.81, y_qk=1.12, receptor_loc=locs.loc[loc_name,:].to_list(), \n",
    "                               receptor_name=loc_name\n",
    "                          , vector_scale=scale,angles='uv', colorbar=False, hatches='xxx', hatch_color='dimgrey',\n",
    "                                  xticks=[20,60,100,140,180])\n",
    "        if add_label:\n",
    "            if loc_name=='BADOE':\n",
    "                loc_name='BAODE'\n",
    "            ax.set_ylabel(loc_name)"
   ]
  },
  {
   "cell_type": "markdown",
   "id": "conscious-auditor",
   "metadata": {},
   "source": [
    "## Spring and Winter depo composites 500hPa"
   ]
  },
  {
   "cell_type": "code",
   "execution_count": 8,
   "id": "clear-emerald",
   "metadata": {},
   "outputs": [],
   "source": [
    "\n",
    "locs_df = get_locations_CLP().drop('YINCHUAN')\n",
    "\n",
    "data_path =path + 'downloads/intermediate_results/'\n",
    "\n",
    "DJF_20mu_composite = read_receptor_composite(locs_df.index, \n",
    "                                             path, 'windspeed_geopot_500hPa', \n",
    "                                             '20micron','DJF', std='4_rank', kind=kind)\n",
    "\n",
    "\n",
    "DJF_2mu_composite = read_receptor_composite(locs_df.index, path, 'windspeed_geopot_500hPa', \n",
    "                                            '2micron','DJF', std='4_rank', kind=kind)\n",
    "\n",
    "\n",
    "MAM_20mu_composite = read_receptor_composite(locs_df.index, path, 'windspeed_geopot_500hPa', \n",
    "                                             '20micron','MAM', std='4_rank', kind=kind)\n",
    "MAM_2mu_composite = read_receptor_composite(locs_df.index, path, 'windspeed_geopot_500hPa', \n",
    "                                            '2micron','MAM', std='4_rank', kind=kind)"
   ]
  },
  {
   "cell_type": "code",
   "execution_count": 1,
   "id": "virtual-hardwood",
   "metadata": {},
   "outputs": [
    {
     "ename": "NameError",
     "evalue": "name 'plt' is not defined",
     "output_type": "error",
     "traceback": [
      "\u001b[0;31m---------------------------------------------------------------------------\u001b[0m",
      "\u001b[0;31mNameError\u001b[0m                                 Traceback (most recent call last)",
      "\u001b[0;32m<ipython-input-1-d5e6bc0dc522>\u001b[0m in \u001b[0;36m<module>\u001b[0;34m\u001b[0m\n\u001b[0;32m----> 1\u001b[0;31m \u001b[0mfig\u001b[0m\u001b[0;34m,\u001b[0m\u001b[0max\u001b[0m \u001b[0;34m=\u001b[0m \u001b[0mplt\u001b[0m\u001b[0;34m.\u001b[0m\u001b[0msubplots\u001b[0m\u001b[0;34m(\u001b[0m\u001b[0mnrows\u001b[0m\u001b[0;34m=\u001b[0m\u001b[0;36m6\u001b[0m\u001b[0;34m,\u001b[0m \u001b[0mncols\u001b[0m\u001b[0;34m=\u001b[0m\u001b[0;36m4\u001b[0m\u001b[0;34m,\u001b[0m  \u001b[0mfigsize\u001b[0m\u001b[0;34m=\u001b[0m\u001b[0;34m(\u001b[0m\u001b[0;36m8.3\u001b[0m\u001b[0;34m*\u001b[0m\u001b[0;36m1.7\u001b[0m\u001b[0;34m,\u001b[0m \u001b[0;36m11.7\u001b[0m\u001b[0;34m*\u001b[0m\u001b[0;36m1.2\u001b[0m\u001b[0;34m)\u001b[0m\u001b[0;34m,\u001b[0m \u001b[0msubplot_kw\u001b[0m\u001b[0;34m=\u001b[0m\u001b[0;34m{\u001b[0m\u001b[0;34m'projection'\u001b[0m\u001b[0;34m:\u001b[0m\u001b[0mccrs\u001b[0m\u001b[0;34m.\u001b[0m\u001b[0mPlateCarree\u001b[0m\u001b[0;34m(\u001b[0m\u001b[0;34m)\u001b[0m\u001b[0;34m}\u001b[0m\u001b[0;34m)\u001b[0m\u001b[0;34m\u001b[0m\u001b[0;34m\u001b[0m\u001b[0m\n\u001b[0m\u001b[1;32m      2\u001b[0m \u001b[0;34m\u001b[0m\u001b[0m\n\u001b[1;32m      3\u001b[0m \u001b[0;34m\u001b[0m\u001b[0m\n\u001b[1;32m      4\u001b[0m fig.suptitle('Clay size-bin                                                           Silt size-bin',x=0.515, y=0.91,\n\u001b[1;32m      5\u001b[0m              ha='center', va='center', fontsize=16)\n",
      "\u001b[0;31mNameError\u001b[0m: name 'plt' is not defined"
     ]
    }
   ],
   "source": [
    "fig,ax = plt.subplots(nrows=6, ncols=4,  figsize=(8.3*1.7, 11.7*1.2), subplot_kw={'projection':ccrs.PlateCarree()})\n",
    "\n",
    "\n",
    "fig.suptitle('Clay size-bin                                                           Silt size-bin',x=0.515, y=0.91,\n",
    "             ha='center', va='center', fontsize=16)\n",
    "\n",
    "\n",
    "plot_composite(DJF_2mu_composite, ax[:,0], locs_df, add_label=True)\n",
    "plot_composite(MAM_2mu_composite,ax[:,1], locs_df)\n",
    "plot_composite(DJF_20mu_composite,ax[:,2], locs_df)\n",
    "plot_composite(MAM_20mu_composite,ax[:,-1], locs_df)\n",
    "for axi,l in zip(ax[:,0].ravel(),locs_df.index):\n",
    "    axi.tick_params(axis=\"y\", which='both',right=True, left=True, labelleft=True, labelright=False)    \n",
    "\n",
    "for axi in ax[-1,:].ravel():\n",
    "#     axi.set_xticks([20, 60, 100, 140, 180])\n",
    "#     axi.xaxis.set_ticklabels(['20°E', '60°E', '100°E', '140°E','180°E'])\n",
    "    axi.tick_params(axis=\"x\", which='both',bottom=True, top=False, labelbottom=True)\n",
    "ax[0,0].set_title('DJF')\n",
    "ax[0,1].set_title('MAM')\n",
    "ax[0,2].set_title('DJF')\n",
    "ax[0,3].set_title('MAM')\n",
    "fig.subplots_adjust(hspace=0.3, wspace=0.13)\n",
    "cax = fig.add_axes([0.33,0.06,0.365, 0.02])\n",
    "cmap = mpl.cm.bwr\n",
    "add_letter(ax.T, y=1.1, fontsize=10)\n",
    "fig.colorbar(mpl.cm.ScalarMappable(mpl.colors.BoundaryNorm(np.linspace(-7.5,7.5,16),cmap.N, extend='both'), \n",
    "                                          cmap=cmap),cax=cax, extend='both', orientation='horizontal', \n",
    "            label='500 hPa wind speed composite anomalies [m/s]')\n",
    "\n",
    "if to_file:\n",
    "    plt.savefig(snakemake.output.composite_facet_plot, bbox_inches='tight', dpi=300)"
   ]
  }
 ],
 "metadata": {
  "kernelspec": {
   "display_name": "Python 3",
   "language": "python",
   "name": "python3"
  },
  "language_info": {
   "codemirror_mode": {
    "name": "ipython",
    "version": 3
   },
   "file_extension": ".py",
   "mimetype": "text/x-python",
   "name": "python",
   "nbconvert_exporter": "python",
   "pygments_lexer": "ipython3",
   "version": "3.8.8"
  }
 },
 "nbformat": 4,
 "nbformat_minor": 5
}
