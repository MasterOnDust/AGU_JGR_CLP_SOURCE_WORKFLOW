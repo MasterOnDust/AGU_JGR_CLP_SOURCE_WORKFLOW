{
 "cells": [
  {
   "cell_type": "code",
   "execution_count": 1,
   "id": "ranking-tissue",
   "metadata": {},
   "outputs": [],
   "source": [
    "import xarray as xr \n",
    "import matplotlib.pyplot as plt\n",
    "import cartopy.crs as ccrs\n",
    "import glob\n",
    "from thesis_toolbox.utils import get_locations_CLP,read_depostion_datasets\n",
    "from thesis_toolbox.plot.tools import add_letter\n",
    "from thesis_toolbox.plot.plot_source_contribution import depositon_facet_plot\n",
    "from dust.plot.plotting import mpl_base_map_plot_xr\n",
    "from dust.plot.maps import map_terrain_china, map_china\n",
    "from dust.plot.utils import _gen_flexpart_colormap,_add_colorbar\n",
    "from matplotlib.colors import LogNorm\n",
    "from thesis_toolbox.plot.tools import latex_plot\n",
    "from matplotlib import rc\n",
    "import matplotlib.cm as cm\n",
    "import matplotlib\n",
    "%matplotlib inline\n",
    "# latex_plot()"
   ]
  },
  {
   "cell_type": "code",
   "execution_count": 15,
   "id": "typical-literacy",
   "metadata": {},
   "outputs": [],
   "source": [
    "if 'snakemake' in globals():\n",
    "    to_file = True\n",
    "    path='./'\n",
    "    psize = snakemake.wildcards.psize\n",
    "else:\n",
    "    path = '../../../'\n",
    "    to_file= False\n",
    "    psize='2micron'"
   ]
  },
  {
   "cell_type": "code",
   "execution_count": 16,
   "id": "placed-shopping",
   "metadata": {},
   "outputs": [],
   "source": [
    "def min_max_norm(ds):\n",
    "    out_ds = ds.copy()\n",
    "    for dvar, da in ds.items():\n",
    "        da = (da-da.min())/(da.max()-da.min())\n",
    "        out_ds = out_ds.assign({dvar:da})\n",
    "    return out_ds"
   ]
  },
  {
   "cell_type": "code",
   "execution_count": 21,
   "id": "missing-minute",
   "metadata": {},
   "outputs": [],
   "source": [
    "def calc_ratio(ds_tot, ds_f):\n",
    "    ds_out = ds_tot.copy()\n",
    "    for dtvar, dvar in zip(ds_tot,ds_f):\n",
    "        ds_out = ds_out.assign({dtvar:1 -ds_f[dvar]/ds_tot[dtvar]})\n",
    "    return ds_out"
   ]
  },
  {
   "cell_type": "code",
   "execution_count": 22,
   "id": "about-exhibition",
   "metadata": {},
   "outputs": [
    {
     "name": "stdout",
     "output_type": "stream",
     "text": [
      "['../../../results/model_results/wetdep/wetdep.SHAPOTOU.2micron.MAM.1999-2019.nc']\n",
      "['../../../results/model_results/wetdep/wetdep.BADOE.2micron.MAM.1999-2019.nc']\n",
      "['../../../results/model_results/wetdep/wetdep.SACOL.2micron.MAM.1999-2019.nc']\n",
      "['../../../results/model_results/wetdep/wetdep.LUOCHUAN.2micron.MAM.1999-2019.nc']\n",
      "['../../../results/model_results/wetdep/wetdep.LANTIAN.2micron.MAM.1999-2019.nc']\n",
      "['../../../results/model_results/wetdep/wetdep.LINGTAI.2micron.MAM.1999-2019.nc']\n",
      "['../../../results/model_results/total_deposition/total_deposition.SHAPOTOU.2micron.MAM.1999-2019.nc']\n",
      "['../../../results/model_results/total_deposition/total_deposition.BADOE.2micron.MAM.1999-2019.nc']\n",
      "['../../../results/model_results/total_deposition/total_deposition.SACOL.2micron.MAM.1999-2019.nc']\n",
      "['../../../results/model_results/total_deposition/total_deposition.LUOCHUAN.2micron.MAM.1999-2019.nc']\n",
      "['../../../results/model_results/total_deposition/total_deposition.LANTIAN.2micron.MAM.1999-2019.nc']\n",
      "['../../../results/model_results/total_deposition/total_deposition.LINGTAI.2micron.MAM.1999-2019.nc']\n"
     ]
    }
   ],
   "source": [
    "locs = ['SHAPOTOU','BADOE','SACOL','LUOCHUAN','LANTIAN','LINGTAI']\n",
    "wetdep = read_depostion_datasets(path+'results/model_results/', locs, 'wetdep',psize)\n",
    "wetdep = wetdep.mean(dim='year')\n",
    "\n",
    "total = read_depostion_datasets(path+'results/model_results/', locs, 'total_deposition', psize)\n",
    "total = total.mean(dim='year')"
   ]
  },
  {
   "cell_type": "code",
   "execution_count": 23,
   "id": "unexpected-desire",
   "metadata": {},
   "outputs": [],
   "source": [
    "ratio_wetdep = calc_ratio(total, wetdep)"
   ]
  },
  {
   "cell_type": "code",
   "execution_count": 24,
   "id": "massive-denver",
   "metadata": {},
   "outputs": [],
   "source": [
    "ratio_wetdep=ratio_wetdep.fillna(0)"
   ]
  },
  {
   "cell_type": "code",
   "execution_count": 34,
   "id": "adequate-channels",
   "metadata": {
    "tags": []
   },
   "outputs": [
    {
     "data": {
      "image/png": "[encoded data removed]",
      "text/plain": [
       "<Figure size 1195.2x555.984 with 14 Axes>"
      ]
     },
     "metadata": {
      "needs_background": "light"
     },
     "output_type": "display_data"
    }
   ],
   "source": [
    "fig,ax = plt.subplots(nrows=3, ncols=4,  figsize=(8.3*2, 11.7*0.66), subplot_kw={'projection':ccrs.PlateCarree()})\n",
    "\n",
    "cmap = _gen_flexpart_colormap()\n",
    "cmap = cm.get_cmap(cmap,21)\n",
    "depositon_facet_plot(total,  \n",
    "                    add_labels=False, ax=ax[:,:2]\n",
    "                    , hspace=0.05, wspace=0.18,  \n",
    "                    fontsize_title=8, colorbar=False, vmin=1e-7,vmax=1e-3,cmap=cmap)\n",
    "cax = fig.add_axes([0.14, 0.03,0.33,0.05])\n",
    "fig.colorbar(cm.ScalarMappable(norm=matplotlib.colors.LogNorm(1e-7, 1e-3), cmap=cmap), cax=cax,\n",
    "            label='Source contribution [$\\mathrm{g/m}^2$]', orientation='horizontal')\n",
    "cmap = cm.get_cmap('BrBG',21)\n",
    "depositon_facet_plot(ratio_wetdep,  \n",
    "                    add_labels=False, ax=ax[:,2:]\n",
    "                    , hspace=0.05, wspace=0.18,  \n",
    "                    fontsize_title=8, colorbar=False,norm=matplotlib.colors.TwoSlopeNorm(0.5), cmap=cmap)\n",
    "fig = plt.gcf()\n",
    "# cmap = _gen_flexpart_colormap()\n",
    "cax = fig.add_axes([0.55, 0.03,0.33,0.05])\n",
    "fig.colorbar(cm.ScalarMappable(norm=matplotlib.colors.TwoSlopeNorm(0.5), cmap=cmap), cax=cax,\n",
    "            label='Fraction of wetdeposition', orientation='horizontal')\n",
    "add_letter(ax.T,y=0.82, fontsize=12)\n",
    "if to_file:\n",
    "    plt.savefig(snakemake.output.combopath,bbox_inches='tight', dpi=300)\n"
   ]
  }
 ],
 "metadata": {
  "kernelspec": {
   "display_name": "Python 3",
   "language": "python",
   "name": "python3"
  },
  "language_info": {
   "codemirror_mode": {
    "name": "ipython",
    "version": 3
   },
   "file_extension": ".py",
   "mimetype": "text/x-python",
   "name": "python",
   "nbconvert_exporter": "python",
   "pygments_lexer": "ipython3",
   "version": "3.8.8"
  }
 },
 "nbformat": 4,
 "nbformat_minor": 5
}
