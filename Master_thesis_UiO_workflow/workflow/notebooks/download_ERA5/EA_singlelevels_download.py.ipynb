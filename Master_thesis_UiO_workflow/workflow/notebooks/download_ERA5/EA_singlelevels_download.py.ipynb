{
 "cells": [
  {
   "cell_type": "code",
   "execution_count": 2,
   "id": "72786f0b",
   "metadata": {},
   "outputs": [],
   "source": [
    "import cdsapi"
   ]
  },
  {
   "cell_type": "code",
   "execution_count": 21,
   "id": "814618c5",
   "metadata": {},
   "outputs": [],
   "source": [
    "sdate = snakemake.wildcards.sdate\n",
    "edate = snakemake.wildcards.edate\n",
    "variable = snakemake.wildcards.ERA5_vname\n",
    "dset = snakemake.wildcards.dataset\n",
    "if variable == '2m_temperature':\n",
    "    retrival_kwargs = {\n",
    "    'grid' : ['5','5'],\n",
    "    'area' : [55, 105, 20,135]\n",
    "    }\n",
    "elif dset == 'pressure_level':\n",
    "    retrival_kwargs = {\n",
    "    'dataset':'reanalysis-era5-pressure-levels',\n",
    "    }\n",
    "else:\n",
    "    retrival_kwargs={}\n",
    "c = cdsapi.Client()"
   ]
  },
  {
   "cell_type": "code",
   "execution_count": 5,
   "id": "b2f2c8c6",
   "metadata": {},
   "outputs": [],
   "source": [
    "years = [str(y) for y in range(int(sdate),int(edate)+1)]"
   ]
  },
  {
   "cell_type": "code",
   "execution_count": 15,
   "id": "3a0b0a68",
   "metadata": {},
   "outputs": [],
   "source": [
    "def data_download(variable, years, \n",
    "                      area=[55, 90, 35,115],\n",
    "                      grid=['2','2'], \n",
    "                      dataset='reanalysis-era5-single-levels',\n",
    "                      plev=1000):\n",
    "    retrival_kwargs = {\n",
    "                'format': 'netcdf',\n",                   
    "                'product_type': 'reanalysis',\n",
    "                'grid':grid,\n",
    "                'variable': variable,\n",
    "                'year': years,\n",
    "                'month': [\n",
    "                    '01','02','03', '04', '05','12'\n",
    "                ],\n",
    "                'day': [\n",
    "                    '01', '02', '03',\n",
    "                    '04', '05', '06',\n",
    "                    '07', '08', '09',\n",
    "                    '10', '11', '12',\n",
    "                    '13', '14', '15',\n",
    "                    '16', '17', '18',\n",
    "                    '19', '20', '21',\n",
    "                    '22', '23', '24',\n",
    "                    '25', '26', '27',\n",
    "                    '28', '29', '30',\n",
    "                    '31',\n",
    "                ],\n",
    "                'time': [\n",
    "                    '00:00', '03:00', '06:00',\n",
    "                    '09:00', '12:00', '15:00',\n",
    "                    '18:00', '21:00',\n",
    "                ],\n",
    "                'area': [\n",
    "                    55, 90, 35,\n",
    "                    115,\n",
    "                ],\n",
    "            }\n",
    "    if dataset=='reanalysis-era5-pressure-levels':\n",
    "        retrival_kwargs['pressure_level'] = plev\n",
    "    c.retrieve(\n",
    "        dataset,\n",
    "        retrival_kwargs,\n",
    "        snakemake.output.outpath)"
   ]
  },
  {
   "cell_type": "code",
   "execution_count": 23,
   "id": "9a7341aa",
   "metadata": {},
   "outputs": [],
   "source": [
    "data_download(variable,years,**retrival_kwargs)"
   ]
  }
 ],
 "metadata": {
  "kernelspec": {
   "display_name": "Python 3 (ipykernel)",
   "language": "python",
   "name": "python3"
  },
  "language_info": {
   "codemirror_mode": {
    "name": "ipython",
    "version": 3
   },
   "file_extension": ".py",
   "mimetype": "text/x-python",
   "name": "python",
   "nbconvert_exporter": "python",
   "pygments_lexer": "ipython3",
   "version": "3.9.0"
  }
 },
 "nbformat": 4,
 "nbformat_minor": 5
}
