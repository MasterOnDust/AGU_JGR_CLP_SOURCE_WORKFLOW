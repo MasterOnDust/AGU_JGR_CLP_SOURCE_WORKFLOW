{
 "cells": [
  {
   "cell_type": "code",
   "execution_count": 2,
   "id": "b79ad1f0",
   "metadata": {},
   "outputs": [],
   "source": [
    "import xarray as xr\n",
    "import matplotlib.pyplot as plt\n",
    "import numpy as np\n",
    "import cartopy.crs as ccrs\n",
    "from thesis_toolbox.plot.tools import map_large_scale\n",
    "from dust.plot.maps import map_china\n",
    "import copy\n",
    "import pandas as pd"
   ]
  },
  {
   "cell_type": "code",
   "execution_count": 3,
   "id": "d938b877",
   "metadata": {
    "scrolled": true
   },
   "outputs": [],
   "source": [
    "paths = snakemake.input\n",
    "\n",
    "\n",
    "t_day = xr.open_dataset(paths[0]).resample(time='D').mean()\n",
    "with xr.set_options(keep_attrs=True):\n",
    "    mslp = xr.open_dataset(paths[1]).resample(time='D').mean()\n",
    "    vort = xr.open_dataset(paths[2]).resample(time='D').mean()\n",
    "    geopot = xr.open_dataset(paths[3]).resample(time='D').mean()\n",
    "    mslp = mslp.assign(msl=mslp['msl']/100)\n",
    "mslp['msl'].attrs['units'] = 'hPa'\n",
    "\n",
    "geopot = geopot.where((mslp['msl']>1035) &(vort['vo'] < -1e-5), drop=True)\n",
    "\n",
    "msl = mslp.sel(time=geopot.time)\n"
   ]
  },
  {
   "cell_type": "code",
   "execution_count": 5,
   "id": "5d43ebcf",
   "metadata": {},
   "outputs": [],
   "source": [
    "\n",
    "filter_by_shi = True\n",
    "\n",
    "std_clim_temp = t_day.resample(time='QS-Dec').std()\n",
    "mean_clim_temp = t_day.resample(time='QS-Dec').mean()\n"
   ]
  },
  {
   "cell_type": "code",
   "execution_count": 6,
   "id": "ea26fa3f",
   "metadata": {},
   "outputs": [],
   "source": [
    "winter_std = std_clim_temp.sel(time=(std_clim_temp.time.dt.month==12))\n",
    "winter_std = winter_std.drop_sel(time=['1988-12-01T00:00:00.000000000','2019-12-01T00:00:00.000000000'])\n",
    "winter_mean = mean_clim_temp.sel(time=(mean_clim_temp.time.dt.month==12))\n",
    "winter_mean = winter_mean.drop_sel(time=['1988-12-01T00:00:00.000000000','2019-12-01T00:00:00.000000000'])"
   ]
  },
  {
   "cell_type": "code",
   "execution_count": 7,
   "id": "aa925751",
   "metadata": {},
   "outputs": [],
   "source": [
    "std = winter_std.mean(dim='time')\n",
    "\n",
    "\n",
    "# t_day = mt2.resample(time='D').mean() \n",
    "\n",
    "\n",
    "t_drop =  t_day.shift(time=1) - t_day\n",
    "\n",
    "\n",
    "t_anom = t_day- winter_mean.mean(dim='time')\n",
    "\n",
    "t_anom = t_anom.drop_isel(time=0)\n",
    "\n",
    "t_drop = t_drop.drop_isel(time=0)\n",
    "\n",
    "t_drop_unfilterd = t_drop.copy()\n",
    "if filter_by_shi:\n",
    "    t_drop = t_drop.sel(time=msl.time)\n",
    "    t_anom = t_anom.sel(time=msl.time)\n",
    "\n",
    "t_day = t_day.sel(time=t_drop.time)\n",
    "\n",
    "n_caobs = t_day.where((t_anom['t2m'] < -1.5*std),drop=True)\n",
    "\n",
    "n_caobs = n_caobs.where((t_drop['t2m'] < -1.5*std), drop=True).time\n",
    "\n"
   ]
  },
  {
   "cell_type": "code",
   "execution_count": 8,
   "id": "f56696d7",
   "metadata": {},
   "outputs": [],
   "source": [
    "t_caob = t_day.sel(time=n_caobs)"
   ]
  },
  {
   "cell_type": "code",
   "execution_count": 9,
   "id": "1eb973ba",
   "metadata": {},
   "outputs": [],
   "source": [
    "def get_events(n_caobs,t_drop, std):\n",
    "    events = {}\n",
    "    for t in n_caobs:\n",
    "        str_t = str(t.dt.strftime('%Y-%m-%d').values)\n",
    "    #     print(str_t)\n",
    "        events[str_t] = {}\n",
    "\n",
    "        caob_event = t_drop['t2m'].sel(time=slice(t,None))\n",
    "        caob_event = iter(caob_event)\n",
    "        temp_step = next(caob_event)\n",
    "        time_list = []\n",
    "        ndays=0\n",
    "        while ((temp_step > 0.5*std['t2m']).mean(dim=['longitude','latitude']) < 0.20):\n",
    "    #         print((temp_step > 0.5*std['t2m']).mean(dim=['longitude','latitude']))\n",
    "    #         print((temp_step > -0.5*std).mean() < 0.75)\n",
    "    #         print((temp_step > -0.5*std).mean(dim=['longitude','latitude']) < 0.75)\n",
    "            time_list.append(temp_step.time)\n",
    "            temp_step = next(caob_event)\n",
    "            ndays += 1\n",
    "        if not time_list:\n",
    "            time_list = [temp_step.time]\n",
    "        events[str_t]['time'] = xr.concat(time_list, dim='time')\n",
    "        events[str_t]['ndays'] = ndays\n",
    "\n",
    "    return events\n",
    "    "
   ]
  },
  {
   "cell_type": "code",
   "execution_count": 10,
   "id": "cd148079",
   "metadata": {},
   "outputs": [],
   "source": [
    "events = get_events(n_caobs,t_drop_unfilterd,std)"
   ]
  },
  {
   "cell_type": "code",
   "execution_count": 11,
   "id": "b6625af2",
   "metadata": {},
   "outputs": [],
   "source": [
    "\n",
    "\n",
    "k = list(events.keys())\n",
    "clean_events = copy.deepcopy(events)\n",
    "for i in range(1,len(k)):\n",
    "    cur_event = events[k[i-1]]['time']\n",
    "    next_event = events[k[i]]['time']\n",
    "    if len(np.intersect1d(cur_event, next_event)) == len(next_event):\n",
    "        clean_events.pop(k[i])\n",
    "        \n",
    "\n",
    "data_dict = {}\n",
    "for event in clean_events:\n",
    "    data_dict[event]={}\n",
    "    data_dict[event]['sdate'] = clean_events[event]['time'][0].dt.date.values\n",
    "    data_dict[event]['edate'] = clean_events[event]['time'][-1].dt.date.values\n",
    "    data_dict[event]['ndays'] = clean_events[event]['ndays']\n",
    "    \n",
    "    \n",
    "\n",
    "df = pd.DataFrame(data_dict).transpose()\n",
    "\n",
    "df.index = pd.to_datetime(df.index)\n",
    "\n",
    "\n",
    "df['intensity'] = [t_drop['t2m'].sel(time=slice(d[1]['sdate'],d[1]['edate'])).mean().values for d in df.iterrows()]\n",
    "\n",
    "df = df[df['intensity'] < 0]\n",
    "\n",
    "events_per_winter = df['sdate'].resample('QS-Dec').count()\n",
    "mean_intensity = df['intensity'].resample('QS-Dec').mean()\n",
    "total_duration = df['ndays'].resample('QS-Dec').sum()\n",
    "\n",
    "winter_CAOBs_table =  pd.concat([events_per_winter,mean_intensity,total_duration],axis=1)\n",
    "winter_CAOBs_table = winter_CAOBs_table.rename(columns={'sdate':'n_events', 'ndays':'n_CAOB_days'})\n",
    "winter_CAOBs_table = winter_CAOBs_table[winter_CAOBs_table.index.month==12]\n",
    "winter_CAOBs_table.index = winter_CAOBs_table.index.year\n",
    "winter_CAOBs_table.to_csv(snakemake.output.csv)\n"
   ]
  },
  {
   "cell_type": "code",
   "execution_count": 12,
   "id": "0e6629cd",
   "metadata": {},
   "outputs": [],
   "source": [
    "fig, ax = plt.subplot_mosaic(\n",
    "    \"\"\"\n",
    "    ab\n",
    "    cc\n",
    "    \"\"\",gridspec_kw={\"height_ratios\": [3, 1],\"wspace\": 0.06, \"hspace\":0.3}, figsize=(12,6))\n",
    "winter_CAOBs_table['n_events'].plot.bar(ax=ax['a'], color='k')\n",
    "ax['a'].set_ylabel('n CAOBs')\n",
    "winter_CAOBs_table['intensity'].plot.bar(ax=ax['b'], color='k')\n",
    "\n",
    "ax['b'].invert_yaxis()\n",
    "ax['b'].yaxis.tick_right()\n",
    "ax['b'].set_ylabel('Mean daily temperature drop [K]')\n",
    "ax['b'].yaxis.set_label_position('right')\n",
    "for l,ax_i in ax.items():\n",
    "    ax_i.text(0.02,0.87,f'{l})',transform=ax_i.transAxes, fontsize=14)\n",
    "\n",
    "winter_CAOBs_table['n_CAOB_days'].plot.bar(ax=ax['c'], color='k')\n",
    "plt.savefig(snakemake.output.outpath, dpi=144, bbox_inches='tight')"
   ]
  }
 ],
 "metadata": {
  "kernelspec": {
   "display_name": "Python 3 (ipykernel)",
   "language": "python",
   "name": "python3"
  },
  "language_info": {
   "codemirror_mode": {
    "name": "ipython",
    "version": 3
   },
   "file_extension": ".py",
   "mimetype": "text/x-python",
   "name": "python",
   "nbconvert_exporter": "python",
   "pygments_lexer": "ipython3",
   "version": "3.9.0"
  }
 },
 "nbformat": 4,
 "nbformat_minor": 5
}
